{
 "cells": [
  {
   "cell_type": "code",
   "execution_count": 1,
   "id": "0ec968e4-97bb-4016-820d-897aeef40fab",
   "metadata": {},
   "outputs": [],
   "source": [
    "#Theory Questions:"
   ]
  },
  {
   "cell_type": "code",
   "execution_count": 2,
   "id": "389fc8b6-4519-4545-905b-a03576f86b0a",
   "metadata": {},
   "outputs": [
    {
     "name": "stdout",
     "output_type": "stream",
     "text": [
      "8\n",
      "8\n"
     ]
    }
   ],
   "source": [
    "#  1. What is the difference between a function and a method in Python?\n",
    "\n",
    "#answer:- Function\n",
    "#A function in Python is a block of reusable code that performs a specific task.\n",
    "#It is defined using the def keyword or lambda.\n",
    "#A function is not tied to any object/class unless explicitly placed inside one.\n",
    "#Example:\n",
    "\n",
    "def add(a, b):\n",
    "    return a + b\n",
    "\n",
    "print(add(3, 5))  # Output: 8\n",
    "\n",
    "#Method\n",
    "#A method is also a function, but it is associated with an object (i.e., it belongs to a class).\n",
    "#Methods are defined inside classes and take the instance (self) or class (cls) as their first parameter.\n",
    "#Methods can access and modify the data (attributes) of the object they belong to.\n",
    "\n",
    "#Example:\n",
    "\n",
    "class Calculator:\n",
    "    def add(self, a, b):   # 'self' refers to the object\n",
    "        return a + b\n",
    "\n",
    "calc = Calculator()\n",
    "print(calc.add(3, 5))  # Output: 8\n"
   ]
  },
  {
   "cell_type": "code",
   "execution_count": 3,
   "id": "c55829cb-8193-4950-9340-f8f752e33831",
   "metadata": {},
   "outputs": [
    {
     "name": "stdout",
     "output_type": "stream",
     "text": [
      "Hello Rohit, you are 24 years old.\n"
     ]
    }
   ],
   "source": [
    "# 2. Explain the concept of function arguments and parameters in Python.\n",
    "\n",
    "#answer:-\n",
    "#Parameters → The variables defined in the function header (during definition).\n",
    "#Arguments → The actual values you pass to the function when calling it.\n",
    "\n",
    "#Example\n",
    "\n",
    "def greet(name, age):   # 'name' and 'age' are PARAMETERS\n",
    "    print(f\"Hello {name}, you are {age} years old.\")\n",
    "\n",
    "greet(\"Rohit\", 24)      # \"Rohit\" and 24 are ARGUMENTS\n"
   ]
  },
  {
   "cell_type": "code",
   "execution_count": 4,
   "id": "af96226b-6aa1-4aa9-93b5-160afbdb2e33",
   "metadata": {},
   "outputs": [
    {
     "name": "stdout",
     "output_type": "stream",
     "text": [
      "Hello, World!\n",
      "Hello, Rohit!\n",
      "Hello, Guest!\n",
      "Hello, Rohit!\n",
      "args: (1, 2, 3)\n",
      "kwargs: {'name': 'Rohit', 'age': 24}\n",
      "25\n",
      "Inner function called\n",
      "120\n",
      "9\n",
      "18\n"
     ]
    }
   ],
   "source": [
    "# 3. What are the different ways to define and call a function in Python?\n",
    "#answer:- \n",
    "#Different Ways to Define and Call a Function in Python\n",
    "\n",
    "#1. Standard Function (using def)\n",
    "#Theory:\n",
    "#Defined with the def keyword.\n",
    "#Can be called using its name followed by parentheses.\n",
    "\n",
    "#Example:\n",
    "\n",
    "def greet():\n",
    "    print(\"Hello, World!\")\n",
    "\n",
    "greet()   # Calling the function\n",
    "\n",
    "\n",
    "#2. Function with Parameters\n",
    "#Theory:\n",
    "#Parameters allow passing data into the function.\n",
    "#Arguments supply values to parameters\n",
    "\n",
    "def greet(name):\n",
    "    print(f\"Hello, {name}!\")\n",
    "\n",
    "greet(\"Rohit\")   # Output: Hello, Rohit!\n",
    "\n",
    "\n",
    "#3. Function with Default Parameters\n",
    "#Theory:\n",
    "#Default values are used when no argument is provided.\n",
    "\n",
    "#Example:- \n",
    "\n",
    "def greet(name=\"Guest\"):\n",
    "    print(f\"Hello, {name}!\")\n",
    "\n",
    "greet()        # Output: Hello, Guest!\n",
    "greet(\"Rohit\") # Output: Hello, Rohit!\n",
    "\n",
    "\n",
    "#4. Variable-Length Functions\n",
    "#Theory:\n",
    "#*args → allows multiple positional arguments (stored as tuple).\n",
    "#**kwargs → allows multiple keyword arguments (stored as dictionary).\n",
    "\n",
    "#Example:\n",
    "\n",
    "def details(*args, **kwargs):\n",
    "    print(\"args:\", args)\n",
    "    print(\"kwargs:\", kwargs)\n",
    "\n",
    "details(1, 2, 3, name=\"Rohit\", age=24)\n",
    "# args: (1, 2, 3)\n",
    "# kwargs: {'name': 'Rohit', 'age': 24}\n",
    "\n",
    "\n",
    "#5. Anonymous Function (Lambda)\n",
    "#Theory:\n",
    "#One-line function without def.\n",
    "#seful for short operations.\n",
    "\n",
    "square = lambda x: x * x\n",
    "print(square(5))   # Output: 25\n",
    "\n",
    "\n",
    "#6. Nested Functions\n",
    "#Theory:\n",
    "#A function defined inside another function.\n",
    "#Used for better modularity and closures.\n",
    "\n",
    "#Example:\n",
    "\n",
    "def outer():\n",
    "    def inner():\n",
    "        print(\"Inner function called\")\n",
    "    inner()\n",
    "\n",
    "outer()\n",
    "\n",
    "#7. Recursive Functions\n",
    "#Theory:\n",
    "#A function that calls itself.\n",
    "#Useful for problems like factorial, Fibonacci, etc.\n",
    "\n",
    "#Example\n",
    "\n",
    "def factorial(n):\n",
    "    if n == 1:\n",
    "        return 1\n",
    "    return n * factorial(n - 1)\n",
    "\n",
    "print(factorial(5))   # Output: 120\n",
    "\n",
    "\n",
    "#8. Calling with Argument Unpacking\n",
    "#Theory:\n",
    "#* unpacks tuples/lists into positional arguments.\n",
    "#** unpacks dictionaries into keyword arguments.\n",
    "\n",
    "#Example:\n",
    "\n",
    "def add(a, b, c):\n",
    "    return a + b + c\n",
    "\n",
    "nums = (2, 3, 4)\n",
    "print(add(*nums))    # Output: 9\n",
    "\n",
    "info = {\"a\": 5, \"b\": 6, \"c\": 7}\n",
    "print(add(**info))   # Output: 18\n"
   ]
  },
  {
   "cell_type": "code",
   "execution_count": 5,
   "id": "5d1ebdcf-464e-485c-a57b-5c801fcdde26",
   "metadata": {},
   "outputs": [
    {
     "name": "stdout",
     "output_type": "stream",
     "text": [
      "5\n",
      "Hello Rohit\n",
      "None\n",
      "True\n"
     ]
    }
   ],
   "source": [
    "# 4. What is the purpose of the `return` statement in a Python function?\n",
    "\n",
    "#answer:\n",
    "\n",
    "#The return statement in Python is used to give back a value from a function to the place where it was called. \n",
    "#If we don’t use return, the function will automatically give None.\n",
    "#It also stops the function once it is executed.\n",
    "\n",
    "# Example 1: With return\n",
    "\n",
    "def add(a, b):\n",
    "    return a + b\n",
    "\n",
    "result = add(2, 3)\n",
    "print(result)   # Output: 5\n",
    "\n",
    "# Example 2: Without return\n",
    "\n",
    "def greet(name):\n",
    "    print(\"Hello\", name)\n",
    "\n",
    "x = greet(\"Rohit\")\n",
    "print(x)   # Output: None\n",
    "\n",
    "\n",
    "#Example 3: Ending function with return\n",
    "\n",
    "def check_even(num):\n",
    "    if num % 2 == 0:\n",
    "        return True\n",
    "    return False\n",
    "\n",
    "print(check_even(4))   # Output: True\n"
   ]
  },
  {
   "cell_type": "code",
   "execution_count": 6,
   "id": "21ff611d-2f69-48a7-8102-f8a4ecc470e1",
   "metadata": {},
   "outputs": [
    {
     "name": "stdout",
     "output_type": "stream",
     "text": [
      "1\n",
      "2\n",
      "3\n"
     ]
    }
   ],
   "source": [
    "#5. What are iterators in Python and how do they differ from iterables?\n",
    "\n",
    "#answer:-\n",
    "\n",
    "#Iterators in Python are objects that allow us to go through (traverse) elements one by one using the __next__() method.\n",
    "#They remember their position, so each time we call next(), they give the next item until the sequence ends.\n",
    "\n",
    "#Iterables are objects that can be looped over (like lists, tuples, strings, etc.), but they don’t remember the current position. \n",
    "#They just provide an iterator when we call iter() on them.\n",
    "\n",
    "#Example\n",
    "\n",
    "# Iterable\n",
    "nums = [1, 2, 3]     \n",
    "\n",
    "# Iterator\n",
    "it = iter(nums)     \n",
    "\n",
    "print(next(it))  # 1\n",
    "print(next(it))  # 2\n",
    "print(next(it))  # 3\n"
   ]
  },
  {
   "cell_type": "code",
   "execution_count": 7,
   "id": "dd8d4bb6-4156-4c69-9d1a-7d526af85778",
   "metadata": {},
   "outputs": [
    {
     "name": "stdout",
     "output_type": "stream",
     "text": [
      "1\n",
      "2\n",
      "3\n",
      "1\n",
      "4\n",
      "9\n",
      "16\n",
      "25\n"
     ]
    }
   ],
   "source": [
    "# 6. Explain the concept of generators in Python and how they are defined.\n",
    "\n",
    "#answer:- \n",
    "\n",
    "#Generators in Python are special types of functions that are used to create iterators in an easy way.\n",
    "#Instead of returning all values at once, a generator gives values one at a time using the yield keyword. \n",
    "#They are memory efficient because they don’t store the whole sequence in memory,\n",
    "#they generate values only when needed.\n",
    "\n",
    "#How to define a generator\n",
    "\n",
    "#Use a normal function with the keyword yield instead of return.\n",
    "#Each time the function is called with next(), it resumes from the last yield statement.\n",
    "\n",
    "# Example 1: Simple generator\n",
    "\n",
    "def my_gen():\n",
    "    yield 1\n",
    "    yield 2\n",
    "    yield 3\n",
    "\n",
    "g = my_gen()\n",
    "\n",
    "print(next(g))  # 1\n",
    "print(next(g))  # 2\n",
    "print(next(g))  # 3\n",
    "\n",
    "\n",
    "# Example 2: Generator for squares\n",
    "\n",
    "def square_numbers(n):\n",
    "    for i in range(1, n+1):\n",
    "        yield i*i\n",
    "\n",
    "gen = square_numbers(5)\n",
    "\n",
    "for val in gen:\n",
    "    print(val)\n"
   ]
  },
  {
   "cell_type": "code",
   "execution_count": 8,
   "id": "8f0eefca-b6c1-4a36-ac1a-58aa6a92ee36",
   "metadata": {},
   "outputs": [
    {
     "name": "stdout",
     "output_type": "stream",
     "text": [
      "1\n",
      "2\n",
      "3\n"
     ]
    }
   ],
   "source": [
    "# 7. What are the advantages of using generators over regular functions?\n",
    "\n",
    "#answer:- \n",
    "#Advantages of using generators over regular functions:\n",
    "\n",
    "# 1 Memory efficient – Generators don’t store all values in memory, they generate values one by one.\n",
    "#Example: Instead of keeping a list of 1 lakh numbers, a generator gives them one at a time.\n",
    "\n",
    "# 2 Fast execution for large data – Because they don’t create the whole list at once,\n",
    "#they save time and resources.\n",
    "\n",
    "# 3 Lazy evaluation – Values are produced only when asked (using next()), not in advance.\n",
    "\n",
    "# 4 Easy to write – Using yield makes code shorter and easier compared to writing iterators with __iter__() and __next__().\n",
    "\n",
    "# 5 Infinite sequences possible – Generators can produce endless data (like Fibonacci series)without using much memory.\n",
    "\n",
    "# Example:\n",
    "\n",
    "def natural_numbers():\n",
    "    n = 1\n",
    "    while True:\n",
    "        yield n\n",
    "        n += 1\n",
    "\n",
    "gen = natural_numbers()\n",
    "print(next(gen))  # 1\n",
    "print(next(gen))  # 2\n",
    "print(next(gen))  # 3\n"
   ]
  },
  {
   "cell_type": "code",
   "execution_count": 9,
   "id": "7efc5a41-ebcd-4648-b52f-1c56216166cf",
   "metadata": {},
   "outputs": [
    {
     "name": "stdout",
     "output_type": "stream",
     "text": [
      "8\n",
      "[2, 4, 6]\n"
     ]
    }
   ],
   "source": [
    "# 8. What is a lambda function in Python and when is it typically used?\n",
    "\n",
    "#answer:- \n",
    "\n",
    "#Lambda function in Python is a small, anonymous (nameless) function that is defined using the keyword lambda.\n",
    "#It can have any number of arguments but only one expression.\n",
    "#It is written in a single line.\n",
    "\n",
    "#Syntax:  lambda arguments : expression\n",
    "\n",
    "#Example 1: Normal vs Lambda\n",
    "\n",
    "# Normal function\n",
    "def add(a, b):\n",
    "    return a + b\n",
    "\n",
    "# Lambda function\n",
    "sum = lambda a, b: a + b\n",
    "\n",
    "print(sum(5, 3))  # Output: 8\n",
    "\n",
    "\n",
    "#When is it used?\n",
    "\n",
    "#When we need a short function for a short time (temporary use).\n",
    "#Often used with functions like map(), filter(), reduce().\n",
    "#Good for quick operations without defining a full def function.\n",
    "\n",
    "# Example 2: With filter() \n",
    "\n",
    "nums = [1, 2, 3, 4, 5, 6]\n",
    "\n",
    "even_nums = list(filter(lambda x: x % 2 == 0, nums))\n",
    "print(even_nums)   # [2, 4, 6]\n"
   ]
  },
  {
   "cell_type": "code",
   "execution_count": 10,
   "id": "d7c32b1b-e64f-4084-a224-878387418de2",
   "metadata": {},
   "outputs": [
    {
     "name": "stdout",
     "output_type": "stream",
     "text": [
      "[1, 4, 9, 16]\n",
      "[1, 4, 9, 16]\n"
     ]
    }
   ],
   "source": [
    "#  9. Explain the purpose and usage of the `map()` function in Python.\n",
    "\n",
    "#answer:- \n",
    "\n",
    "#map() function in Python is used to apply a function to all items of an iterable (like list, tuple) and return a new iterable (usually a map object).\n",
    "#It saves time instead of using a loop.\n",
    "\n",
    "#Syntax: map(function, iterable)\n",
    "\n",
    "# Example 1: Using a normal function\n",
    "\n",
    "def square(x):\n",
    "    return x * x\n",
    "\n",
    "nums = [1, 2, 3, 4]\n",
    "squared_nums = map(square, nums)\n",
    "print(list(squared_nums))  # [1, 4, 9, 16]\n",
    "\n",
    "# Example 2: Using a lambda function \n",
    "\n",
    "nums = [1, 2, 3, 4]\n",
    "squared_nums = map(lambda x: x**2, nums)\n",
    "print(list(squared_nums))  # [1, 4, 9, 16]\n"
   ]
  },
  {
   "cell_type": "code",
   "execution_count": 11,
   "id": "138785f5-da4e-4f88-a4c9-e77487da241c",
   "metadata": {},
   "outputs": [
    {
     "name": "stdout",
     "output_type": "stream",
     "text": [
      "[1, 4, 9, 16]\n",
      "[2, 4]\n",
      "10\n"
     ]
    }
   ],
   "source": [
    "# 10. What is the difference between `map()`, `reduce()`, and `filter()` functions in Python?\n",
    "\n",
    "#answer:- \n",
    "\n",
    "#1. map()\n",
    "\n",
    "#Purpose: Apply a function to all items of an iterable.\n",
    "#Returns: A map object (convert to list/tuple).\n",
    "#Key point: Transforms every element.\n",
    "\n",
    "#example\n",
    "\n",
    "nums = [1, 2, 3, 4]\n",
    "squared = list(map(lambda x: x**2, nums))\n",
    "print(squared)  # [1, 4, 9, 16]\n",
    "\n",
    "\n",
    "#2. filter()\n",
    "\n",
    "#Purpose: Select items that meet a condition.\n",
    "#Returns: A filter object (convert to list/tuple).\n",
    "#Key point: Filters elements.\n",
    "\n",
    "#Example:\n",
    "\n",
    "nums = [1, 2, 3, 4]\n",
    "evens = list(filter(lambda x: x % 2 == 0, nums))\n",
    "print(evens)  # [2, 4]\n",
    "\n",
    "#3. reduce()\n",
    "\n",
    "#Purpose: Combine all items into a single value.\n",
    "#Returns: Single value.\n",
    "#Key point: Reduces a list to one result.\n",
    "\n",
    "#Example:\n",
    "\n",
    "from functools import reduce\n",
    "\n",
    "nums = [1, 2, 3, 4]\n",
    "total = reduce(lambda x, y: x + y, nums)\n",
    "print(total)  # 10\n"
   ]
  },
  {
   "cell_type": "code",
   "execution_count": 18,
   "id": "9b07a0ee-cd35-4b5f-8dd0-0830230a033d",
   "metadata": {},
   "outputs": [
    {
     "ename": "SyntaxError",
     "evalue": "invalid decimal literal (4186660440.py, line 6)",
     "output_type": "error",
     "traceback": [
      "  \u001b[36mCell\u001b[39m\u001b[36m \u001b[39m\u001b[32mIn[18]\u001b[39m\u001b[32m, line 6\u001b[39m\n\u001b[31m    \u001b[39m\u001b[31mhttps://drive.google.com/file/d/1LSDN3pwPA-fjUoPnwfSqhWjK0tK_EiKd/view?usp=drivesdk\u001b[39m\n                                    ^\n\u001b[31mSyntaxError\u001b[39m\u001b[31m:\u001b[39m invalid decimal literal\n"
     ]
    }
   ],
   "source": [
    "#11. Using pen & Paper write the internal mechanism for sum operation using  reduce function on this given \n",
    "# list:[47,11,42,13]; \n",
    "\n",
    "#answer:- here is link\n"
   ]
  },
  {
   "attachments": {},
   "cell_type": "markdown",
   "id": "493b2eb5-c9db-4244-a049-ca5a5c9c0afc",
   "metadata": {},
   "source": [
    "![answer](https://https://drive.google.com/file/d/1LVySChm-OPX_cB0uVGmoa5Ci-kgBpBE6/view?usp=drivesdk)"
   ]
  },
  {
   "cell_type": "markdown",
   "id": "58f02024-c14e-4f07-94ca-5dfb79b6638f",
   "metadata": {},
   "source": [
    "# ahttps://drive.google.com/file/d/1LSDN3pwPA-fjUoPnwfSqhWjK0tK_EiKd/view?usp=drivesdk"
   ]
  },
  {
   "cell_type": "code",
   "execution_count": null,
   "id": "4b3065d5-7485-440f-be96-387743872b63",
   "metadata": {},
   "outputs": [],
   "source": [
    "#Practical Questions:\n"
   ]
  },
  {
   "cell_type": "code",
   "execution_count": 2,
   "id": "1f7d2a91-11f4-4329-8689-0055b85a7200",
   "metadata": {},
   "outputs": [
    {
     "name": "stdout",
     "output_type": "stream",
     "text": [
      "Sum of even numbers: 12\n"
     ]
    }
   ],
   "source": [
    "#1. Write a Python function that takes a list of numbers as input and returns the sum of all even numbers in the list.\n",
    "\n",
    "def sum_of_even_numbers(numbers):\n",
    "    even_sum = 0\n",
    "    for num in numbers:\n",
    "        if num % 2 == 0:   # check if number is even\n",
    "            even_sum += num\n",
    "    return even_sum\n",
    "\n",
    "# Example usage:\n",
    "nums = [1, 2, 3, 4, 5, 6]\n",
    "print(\"Sum of even numbers:\", sum_of_even_numbers(nums))"
   ]
  },
  {
   "cell_type": "code",
   "execution_count": 3,
   "id": "1fa04f4b-bd41-4aac-9fc9-8e0464f5d978",
   "metadata": {},
   "outputs": [
    {
     "name": "stdout",
     "output_type": "stream",
     "text": [
      "Reversed string: nohtyP\n"
     ]
    }
   ],
   "source": [
    " #2. Create a Python function that accepts a string and returns the reverse of that string.\n",
    "\n",
    "def reverse_string(text):\n",
    "    return text[::-1]   # slicing to reverse\n",
    "\n",
    "# Example usage:\n",
    "word = \"Python\"\n",
    "print(\"Reversed string:\", reverse_string(word))"
   ]
  },
  {
   "cell_type": "code",
   "execution_count": null,
   "id": "892c174b-6cb4-4155-9454-bbc347f78e27",
   "metadata": {},
   "outputs": [],
   "source": [
    "#3. Implement a Python function that takes a list of integers and returns a new list containing the squares of each number.\n",
    "\n",
    "def square_list(numbers):\n",
    "    return [num ** 2 for num in numbers]   # list comprehension\n",
    "\n",
    "# Example usage:\n",
    "nums = [1, 2, 3, 4, 5]\n",
    "print(\"Squares:\", square_list(nums))\n"
   ]
  },
  {
   "cell_type": "code",
   "execution_count": 4,
   "id": "da4e6f31-6db1-4811-9843-620abb53649f",
   "metadata": {},
   "outputs": [
    {
     "name": "stdout",
     "output_type": "stream",
     "text": [
      "Squares: [1, 4, 9, 16, 25]\n"
     ]
    }
   ],
   "source": [
    "# 4. Write a Python function that checks if a given number is prime or not from 1 to 200.\n",
    "\n",
    "def square_list(numbers):\n",
    "    return [num ** 2 for num in numbers]   # list comprehension\n",
    "\n",
    "# Example usage:\n",
    "nums = [1, 2, 3, 4, 5]\n",
    "print(\"Squares:\", square_list(nums))\n"
   ]
  },
  {
   "cell_type": "code",
   "execution_count": 5,
   "id": "6ceb9b24-f442-409f-bd40-176ba6377197",
   "metadata": {},
   "outputs": [
    {
     "name": "stdout",
     "output_type": "stream",
     "text": [
      "0 1 1 2 3 5 8 13 21 34 "
     ]
    }
   ],
   "source": [
    "# 5. Create an iterator class in Python that generates the Fibonacci sequence up to a specified number of terms.\n",
    "\n",
    "class FibonacciIterator:\n",
    "    def __init__(self, n_terms):\n",
    "        self.n_terms = n_terms\n",
    "        self.count = 0\n",
    "        self.a, self.b = 0, 1\n",
    "\n",
    "    def __iter__(self):\n",
    "        return self\n",
    "\n",
    "    def __next__(self):\n",
    "        if self.count < self.n_terms:\n",
    "            result = self.a\n",
    "            self.a, self.b = self.b, self.a + self.b\n",
    "            self.count += 1\n",
    "            return result\n",
    "        else:\n",
    "            raise StopIteration\n",
    "\n",
    "\n",
    "# Example usage:\n",
    "fib = FibonacciIterator(10)\n",
    "for num in fib:\n",
    "    print(num, end=\" \")\n"
   ]
  },
  {
   "cell_type": "code",
   "execution_count": 6,
   "id": "e2d1e71a-9df7-42e8-bbe8-fde45a8b174e",
   "metadata": {},
   "outputs": [
    {
     "name": "stdout",
     "output_type": "stream",
     "text": [
      "1 2 4 8 16 32 "
     ]
    }
   ],
   "source": [
    "# 6. Write a generator function in Python that yields the powers of 2 up to a given exponent.\n",
    "\n",
    "def powers_of_two(n):\n",
    "    for i in range(n + 1):   # include n\n",
    "        yield 2 ** i\n",
    "\n",
    "# Example usage:\n",
    "for value in powers_of_two(5):\n",
    "    print(value, end=\" \")\n"
   ]
  },
  {
   "cell_type": "code",
   "execution_count": 10,
   "id": "d8979b1d-04e1-4005-9ee7-c9bc65502780",
   "metadata": {},
   "outputs": [
    {
     "name": "stdout",
     "output_type": "stream",
     "text": [
      "Hello\n",
      "This is a test file\n",
      "With multiple lines\n"
     ]
    }
   ],
   "source": [
    "# 7. Implement a generator function that reads a file line by line and yields each line as a string.\n",
    "# Step 1: Create the file\n",
    "with open(\"example.txt\", \"w\") as f:\n",
    "    f.write(\"Hello\\n\")\n",
    "    f.write(\"This is a test file\\n\")\n",
    "    f.write(\"With multiple lines\\n\")\n",
    "\n",
    "# Step 2: Define a generator to read lines\n",
    "def read_file_lines(filename):\n",
    "    try:\n",
    "        with open(filename, 'r') as file:\n",
    "            for line in file:\n",
    "                yield line.strip()  # remove \\n at the end\n",
    "    except FileNotFoundError:\n",
    "        print(f\"File {filename} not found!\")\n",
    "\n",
    "# Step 3: Use the generator\n",
    "for line in read_file_lines(\"example.txt\"):\n",
    "    print(line)\n",
    "\n"
   ]
  },
  {
   "cell_type": "code",
   "execution_count": 11,
   "id": "b8904073-bbac-434d-94a3-ae2d92c7297f",
   "metadata": {},
   "outputs": [
    {
     "name": "stdout",
     "output_type": "stream",
     "text": [
      "[(4, 1), (2, 2), (1, 5), (3, 8)]\n"
     ]
    }
   ],
   "source": [
    "# 8. Use a lambda function in Python to sort a list of tuples based on the second element of each tuple.\n",
    "\n",
    "# Sample list of tuples\n",
    "data = [(1, 5), (2, 2), (3, 8), (4, 1)]\n",
    "\n",
    "# Sort based on the second element of each tuple\n",
    "sorted_data = sorted(data, key=lambda x: x[1])\n",
    "\n",
    "print(sorted_data)\n"
   ]
  },
  {
   "cell_type": "code",
   "execution_count": 12,
   "id": "4ba0499d-6d92-429b-b027-f90bb6420d09",
   "metadata": {},
   "outputs": [
    {
     "name": "stdout",
     "output_type": "stream",
     "text": [
      "Celsius: [0, 20, 37, 100]\n",
      "Fahrenheit: [32.0, 68.0, 98.6, 212.0]\n"
     ]
    }
   ],
   "source": [
    "# 9  Write a Python program that uses `map()` to convert a list of temperatures from Celsius to Fahrenheit.\n",
    "\n",
    "# List of temperatures in Celsius\n",
    "celsius_temps = [0, 20, 37, 100]\n",
    "\n",
    "# Function to convert Celsius to Fahrenheit\n",
    "def c_to_f(c):\n",
    "    return (c * 9/5) + 32\n",
    "\n",
    "# Use map() to convert all temperatures\n",
    "fahrenheit_temps = list(map(c_to_f, celsius_temps))\n",
    "\n",
    "print(\"Celsius:\", celsius_temps)\n",
    "print(\"Fahrenheit:\", fahrenheit_temps)\n"
   ]
  },
  {
   "cell_type": "code",
   "execution_count": 13,
   "id": "f4ce20a0-53a6-4e61-8fc0-4e9c255f4a0d",
   "metadata": {},
   "outputs": [
    {
     "name": "stdout",
     "output_type": "stream",
     "text": [
      "Original: Hello World, Python is fun!\n",
      "Without vowels: Hll Wrld, Pythn s fn!\n"
     ]
    }
   ],
   "source": [
    "# 10. Create a Python program that uses filter() to remove all the vowels from a given string.\n",
    "\n",
    "\n",
    "# Input string\n",
    "text = \"Hello World, Python is fun!\"\n",
    "\n",
    "# Function to check if a character is NOT a vowel\n",
    "def not_vowel(char):\n",
    "    return char.lower() not in \"aeiou\"\n",
    "\n",
    "# Use filter() to remove vowels\n",
    "filtered_text = \"\".join(filter(not_vowel, text))\n",
    "\n",
    "print(\"Original:\", text)\n",
    "print(\"Without vowels:\", filtered_text)\n"
   ]
  },
  {
   "cell_type": "code",
   "execution_count": 15,
   "id": "3183c9f3-778e-4a11-8556-221f13605440",
   "metadata": {},
   "outputs": [
    {
     "name": "stdout",
     "output_type": "stream",
     "text": [
      "[(34587, 173.8), (98762, 294.0), (77226, 108.85000000000001), (88112, 84.97)]\n"
     ]
    }
   ],
   "source": [
    "#11) Imagine an accounting routine used in a book shop. It works on a list with sublists, which look like this:\n",
    "# Write a Python program, which returns a list with 2-tuples. Each tuple consists of the order number and the \n",
    "#product of the price per item and the quantity. The product should be increased by 10,- € if the value of the \n",
    "#order is smaller than 100,00 €.\n",
    " \n",
    "#Write a Python program using lambda and map\n",
    "\n",
    "# List of orders: [Order Number, Book Title, Quantity, Price per Item]\n",
    "orders = [\n",
    "    [34587, \"Learning Python, Mark Lutz\", 4, 40.95],\n",
    "    [98762, \"Programming Python, Mark Lutz\", 5, 56.80],\n",
    "    [77226, \"Head First Python, Paul Barry\", 3, 32.95],\n",
    "    [88112, \"Einführung in Python3, Bernd Klein\", 3, 24.99]]\n",
    "\n",
    "# Calculate total price with condition\n",
    "result = [ (order[0], order[2] * order[3] + 10 if order[0] < 100000 else order[2] * order[3])\n",
    "    for order in orders]\n",
    "\n",
    "print(result)\n"
   ]
  },
  {
   "cell_type": "code",
   "execution_count": null,
   "id": "55970caa-ae46-4538-8592-59e2c42190a7",
   "metadata": {},
   "outputs": [],
   "source": []
  }
 ],
 "metadata": {
  "kernelspec": {
   "display_name": "Python 3 (ipykernel)",
   "language": "python",
   "name": "python3"
  },
  "language_info": {
   "codemirror_mode": {
    "name": "ipython",
    "version": 3
   },
   "file_extension": ".py",
   "mimetype": "text/x-python",
   "name": "python",
   "nbconvert_exporter": "python",
   "pygments_lexer": "ipython3",
   "version": "3.13.7"
  }
 },
 "nbformat": 4,
 "nbformat_minor": 5
}
